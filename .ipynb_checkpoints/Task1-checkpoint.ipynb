{
 "cells": [
  {
   "cell_type": "code",
   "execution_count": 1,
   "id": "05428bf0",
   "metadata": {},
   "outputs": [
    {
     "data": {
      "text/html": [
       "<div>\n",
       "<style scoped>\n",
       "    .dataframe tbody tr th:only-of-type {\n",
       "        vertical-align: middle;\n",
       "    }\n",
       "\n",
       "    .dataframe tbody tr th {\n",
       "        vertical-align: top;\n",
       "    }\n",
       "\n",
       "    .dataframe thead th {\n",
       "        text-align: right;\n",
       "    }\n",
       "</style>\n",
       "<table border=\"1\" class=\"dataframe\">\n",
       "  <thead>\n",
       "    <tr style=\"text-align: right;\">\n",
       "      <th></th>\n",
       "      <th>#</th>\n",
       "      <th>PLAYER</th>\n",
       "      <th>GP</th>\n",
       "      <th>MIN</th>\n",
       "      <th>PTS</th>\n",
       "      <th>FGM</th>\n",
       "      <th>REB</th>\n",
       "      <th>AST</th>\n",
       "    </tr>\n",
       "  </thead>\n",
       "  <tbody>\n",
       "    <tr>\n",
       "      <th>0</th>\n",
       "      <td>1</td>\n",
       "      <td>Kareem Abdul-Jabbar</td>\n",
       "      <td>1,560</td>\n",
       "      <td>57446</td>\n",
       "      <td>38387</td>\n",
       "      <td>15837</td>\n",
       "      <td>17440</td>\n",
       "      <td>5660</td>\n",
       "    </tr>\n",
       "    <tr>\n",
       "      <th>1</th>\n",
       "      <td>2</td>\n",
       "      <td>LeBron James</td>\n",
       "      <td>1,366</td>\n",
       "      <td>52138</td>\n",
       "      <td>37062</td>\n",
       "      <td>13543</td>\n",
       "      <td>10210</td>\n",
       "      <td>10045</td>\n",
       "    </tr>\n",
       "    <tr>\n",
       "      <th>2</th>\n",
       "      <td>3</td>\n",
       "      <td>Karl Malone</td>\n",
       "      <td>1,476</td>\n",
       "      <td>54852</td>\n",
       "      <td>36928</td>\n",
       "      <td>13528</td>\n",
       "      <td>14968</td>\n",
       "      <td>5248</td>\n",
       "    </tr>\n",
       "    <tr>\n",
       "      <th>3</th>\n",
       "      <td>4</td>\n",
       "      <td>Kobe Bryant</td>\n",
       "      <td>1,346</td>\n",
       "      <td>48643</td>\n",
       "      <td>33643</td>\n",
       "      <td>11719</td>\n",
       "      <td>7047</td>\n",
       "      <td>6306</td>\n",
       "    </tr>\n",
       "    <tr>\n",
       "      <th>4</th>\n",
       "      <td>5</td>\n",
       "      <td>Michael Jordan</td>\n",
       "      <td>1,072</td>\n",
       "      <td>41010</td>\n",
       "      <td>32292</td>\n",
       "      <td>12192</td>\n",
       "      <td>6672</td>\n",
       "      <td>5633</td>\n",
       "    </tr>\n",
       "    <tr>\n",
       "      <th>5</th>\n",
       "      <td>6</td>\n",
       "      <td>Dirk Nowitzki</td>\n",
       "      <td>1,522</td>\n",
       "      <td>51367</td>\n",
       "      <td>31560</td>\n",
       "      <td>11169</td>\n",
       "      <td>11489</td>\n",
       "      <td>3651</td>\n",
       "    </tr>\n",
       "    <tr>\n",
       "      <th>6</th>\n",
       "      <td>7</td>\n",
       "      <td>Wilt Chamberlain</td>\n",
       "      <td>1,045</td>\n",
       "      <td>47859</td>\n",
       "      <td>31419</td>\n",
       "      <td>12681</td>\n",
       "      <td>23924</td>\n",
       "      <td>4643</td>\n",
       "    </tr>\n",
       "    <tr>\n",
       "      <th>7</th>\n",
       "      <td>8</td>\n",
       "      <td>Shaquille O’Neal</td>\n",
       "      <td>1,207</td>\n",
       "      <td>41917</td>\n",
       "      <td>28596</td>\n",
       "      <td>11330</td>\n",
       "      <td>13099</td>\n",
       "      <td>3026</td>\n",
       "    </tr>\n",
       "    <tr>\n",
       "      <th>8</th>\n",
       "      <td>9</td>\n",
       "      <td>Carmelo Anthony</td>\n",
       "      <td>1,260</td>\n",
       "      <td>43513</td>\n",
       "      <td>28289</td>\n",
       "      <td>10119</td>\n",
       "      <td>7808</td>\n",
       "      <td>3422</td>\n",
       "    </tr>\n",
       "    <tr>\n",
       "      <th>9</th>\n",
       "      <td>10</td>\n",
       "      <td>Moses Malone</td>\n",
       "      <td>1,329</td>\n",
       "      <td>45071</td>\n",
       "      <td>27409</td>\n",
       "      <td>9435</td>\n",
       "      <td>16212</td>\n",
       "      <td>1796</td>\n",
       "    </tr>\n",
       "  </tbody>\n",
       "</table>\n",
       "</div>"
      ],
      "text/plain": [
       "    #               PLAYER     GP    MIN    PTS    FGM    REB    AST\n",
       "0   1  Kareem Abdul-Jabbar  1,560  57446  38387  15837  17440   5660\n",
       "1   2         LeBron James  1,366  52138  37062  13543  10210  10045\n",
       "2   3          Karl Malone  1,476  54852  36928  13528  14968   5248\n",
       "3   4          Kobe Bryant  1,346  48643  33643  11719   7047   6306\n",
       "4   5       Michael Jordan  1,072  41010  32292  12192   6672   5633\n",
       "5   6        Dirk Nowitzki  1,522  51367  31560  11169  11489   3651\n",
       "6   7     Wilt Chamberlain  1,045  47859  31419  12681  23924   4643\n",
       "7   8     Shaquille O’Neal  1,207  41917  28596  11330  13099   3026\n",
       "8   9      Carmelo Anthony  1,260  43513  28289  10119   7808   3422\n",
       "9  10         Moses Malone  1,329  45071  27409   9435  16212   1796"
      ]
     },
     "execution_count": 1,
     "metadata": {},
     "output_type": "execute_result"
    }
   ],
   "source": [
    "import pandas as pd\n",
    "\n",
    "data1 = pd.read_csv(\"data01.csv\")\n",
    "data1\n"
   ]
  },
  {
   "cell_type": "code",
   "execution_count": 3,
   "id": "2455672f",
   "metadata": {},
   "outputs": [
    {
     "data": {
      "text/html": [
       "<div>\n",
       "<style scoped>\n",
       "    .dataframe tbody tr th:only-of-type {\n",
       "        vertical-align: middle;\n",
       "    }\n",
       "\n",
       "    .dataframe tbody tr th {\n",
       "        vertical-align: top;\n",
       "    }\n",
       "\n",
       "    .dataframe thead th {\n",
       "        text-align: right;\n",
       "    }\n",
       "</style>\n",
       "<table border=\"1\" class=\"dataframe\">\n",
       "  <thead>\n",
       "    <tr style=\"text-align: right;\">\n",
       "      <th></th>\n",
       "      <th>#</th>\n",
       "      <th>PLAYER</th>\n",
       "      <th>Unnamed: 2</th>\n",
       "    </tr>\n",
       "  </thead>\n",
       "  <tbody>\n",
       "    <tr>\n",
       "      <th>0</th>\n",
       "      <td>1</td>\n",
       "      <td>Michael Jordan</td>\n",
       "      <td>NaN</td>\n",
       "    </tr>\n",
       "    <tr>\n",
       "      <th>1</th>\n",
       "      <td>2</td>\n",
       "      <td>LeBron James</td>\n",
       "      <td>NaN</td>\n",
       "    </tr>\n",
       "    <tr>\n",
       "      <th>2</th>\n",
       "      <td>3</td>\n",
       "      <td>Kareem Abdul-Jabbar</td>\n",
       "      <td>NaN</td>\n",
       "    </tr>\n",
       "    <tr>\n",
       "      <th>3</th>\n",
       "      <td>4</td>\n",
       "      <td>Bill Russell</td>\n",
       "      <td>NaN</td>\n",
       "    </tr>\n",
       "    <tr>\n",
       "      <th>4</th>\n",
       "      <td>5</td>\n",
       "      <td>Magic Johnson</td>\n",
       "      <td>NaN</td>\n",
       "    </tr>\n",
       "    <tr>\n",
       "      <th>5</th>\n",
       "      <td>6</td>\n",
       "      <td>Wilt Chamberlain</td>\n",
       "      <td>NaN</td>\n",
       "    </tr>\n",
       "    <tr>\n",
       "      <th>6</th>\n",
       "      <td>7</td>\n",
       "      <td>Larry Bird</td>\n",
       "      <td>NaN</td>\n",
       "    </tr>\n",
       "    <tr>\n",
       "      <th>7</th>\n",
       "      <td>8</td>\n",
       "      <td>Shaquille O’Neal</td>\n",
       "      <td>NaN</td>\n",
       "    </tr>\n",
       "    <tr>\n",
       "      <th>8</th>\n",
       "      <td>9</td>\n",
       "      <td>Tim Duncan</td>\n",
       "      <td>NaN</td>\n",
       "    </tr>\n",
       "    <tr>\n",
       "      <th>9</th>\n",
       "      <td>10</td>\n",
       "      <td>Kobe Bryant</td>\n",
       "      <td>NaN</td>\n",
       "    </tr>\n",
       "  </tbody>\n",
       "</table>\n",
       "</div>"
      ],
      "text/plain": [
       "    #               PLAYER  Unnamed: 2\n",
       "0   1       Michael Jordan         NaN\n",
       "1   2         LeBron James         NaN\n",
       "2   3  Kareem Abdul-Jabbar         NaN\n",
       "3   4         Bill Russell         NaN\n",
       "4   5        Magic Johnson         NaN\n",
       "5   6     Wilt Chamberlain         NaN\n",
       "6   7           Larry Bird         NaN\n",
       "7   8     Shaquille O’Neal         NaN\n",
       "8   9           Tim Duncan         NaN\n",
       "9  10          Kobe Bryant         NaN"
      ]
     },
     "execution_count": 3,
     "metadata": {},
     "output_type": "execute_result"
    }
   ],
   "source": [
    "data2 = pd.read_csv(\"data02.csv\")\n",
    "data2\n"
   ]
  },
  {
   "cell_type": "code",
   "execution_count": 4,
   "id": "45baea39",
   "metadata": {},
   "outputs": [],
   "source": [
    "set_data1 = set(data1[\"PLAYER\"])\n",
    "set_data2 = set(data2[\"PLAYER\"])"
   ]
  },
  {
   "cell_type": "code",
   "execution_count": 5,
   "id": "037fe6a9",
   "metadata": {},
   "outputs": [
    {
     "data": {
      "text/plain": [
       "{'Carmelo Anthony',\n",
       " 'Dirk Nowitzki',\n",
       " 'Kareem Abdul-Jabbar',\n",
       " 'Karl Malone',\n",
       " 'Kobe Bryant',\n",
       " 'LeBron James',\n",
       " 'Michael Jordan',\n",
       " 'Moses Malone',\n",
       " 'Shaquille O’Neal',\n",
       " 'Wilt Chamberlain'}"
      ]
     },
     "execution_count": 5,
     "metadata": {},
     "output_type": "execute_result"
    }
   ],
   "source": [
    "set_data1"
   ]
  },
  {
   "cell_type": "code",
   "execution_count": 6,
   "id": "81db1695",
   "metadata": {},
   "outputs": [
    {
     "data": {
      "text/plain": [
       "{'Bill Russell',\n",
       " 'Kareem Abdul-Jabbar',\n",
       " 'Kobe Bryant',\n",
       " 'Larry Bird',\n",
       " 'LeBron James',\n",
       " 'Magic Johnson',\n",
       " 'Michael Jordan',\n",
       " 'Shaquille O’Neal',\n",
       " 'Tim Duncan',\n",
       " 'Wilt Chamberlain'}"
      ]
     },
     "execution_count": 6,
     "metadata": {},
     "output_type": "execute_result"
    }
   ],
   "source": [
    "set_data2"
   ]
  },
  {
   "cell_type": "code",
   "execution_count": 7,
   "id": "7bc0f172",
   "metadata": {},
   "outputs": [
    {
     "data": {
      "text/plain": [
       "{'Bill Russell',\n",
       " 'Carmelo Anthony',\n",
       " 'Dirk Nowitzki',\n",
       " 'Kareem Abdul-Jabbar',\n",
       " 'Karl Malone',\n",
       " 'Kobe Bryant',\n",
       " 'Larry Bird',\n",
       " 'LeBron James',\n",
       " 'Magic Johnson',\n",
       " 'Michael Jordan',\n",
       " 'Moses Malone',\n",
       " 'Shaquille O’Neal',\n",
       " 'Tim Duncan',\n",
       " 'Wilt Chamberlain'}"
      ]
     },
     "execution_count": 7,
     "metadata": {},
     "output_type": "execute_result"
    }
   ],
   "source": [
    "#union\n",
    "(set_data1 | set_data2)"
   ]
  },
  {
   "cell_type": "code",
   "execution_count": 8,
   "id": "05f4d07e",
   "metadata": {},
   "outputs": [
    {
     "data": {
      "text/plain": [
       "{'Kareem Abdul-Jabbar',\n",
       " 'Kobe Bryant',\n",
       " 'LeBron James',\n",
       " 'Michael Jordan',\n",
       " 'Shaquille O’Neal',\n",
       " 'Wilt Chamberlain'}"
      ]
     },
     "execution_count": 8,
     "metadata": {},
     "output_type": "execute_result"
    }
   ],
   "source": [
    "#mix\n",
    "(set_data1 & set_data2)"
   ]
  },
  {
   "cell_type": "code",
   "execution_count": 9,
   "id": "0880aad1",
   "metadata": {},
   "outputs": [
    {
     "data": {
      "text/plain": [
       "{'Carmelo Anthony', 'Dirk Nowitzki', 'Karl Malone', 'Moses Malone'}"
      ]
     },
     "execution_count": 9,
     "metadata": {},
     "output_type": "execute_result"
    }
   ],
   "source": [
    "set_data1 - (set_data1 & set_data2)"
   ]
  },
  {
   "cell_type": "code",
   "execution_count": 10,
   "id": "c9add76c",
   "metadata": {},
   "outputs": [
    {
     "data": {
      "text/plain": [
       "{'Bill Russell',\n",
       " 'Carmelo Anthony',\n",
       " 'Dirk Nowitzki',\n",
       " 'Karl Malone',\n",
       " 'Larry Bird',\n",
       " 'Magic Johnson',\n",
       " 'Moses Malone',\n",
       " 'Tim Duncan'}"
      ]
     },
     "execution_count": 10,
     "metadata": {},
     "output_type": "execute_result"
    }
   ],
   "source": [
    "(set_data1 | set_data2) - (set_data1 & set_data2)"
   ]
  },
  {
   "cell_type": "code",
   "execution_count": null,
   "id": "75ce07d4",
   "metadata": {},
   "outputs": [],
   "source": []
  }
 ],
 "metadata": {
  "kernelspec": {
   "display_name": "Python 3 (ipykernel)",
   "language": "python",
   "name": "python3"
  },
  "language_info": {
   "codemirror_mode": {
    "name": "ipython",
    "version": 3
   },
   "file_extension": ".py",
   "mimetype": "text/x-python",
   "name": "python",
   "nbconvert_exporter": "python",
   "pygments_lexer": "ipython3",
   "version": "3.9.13"
  }
 },
 "nbformat": 4,
 "nbformat_minor": 5
}
